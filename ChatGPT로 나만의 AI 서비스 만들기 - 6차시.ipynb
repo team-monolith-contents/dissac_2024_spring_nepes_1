{
 "cells": [
  {
   "cell_type": "markdown",
   "id": "ce7d7128",
   "metadata": {
    "deletable": false,
    "editable": false,
    "slideshow": {
     "slide_type": ""
    },
    "tags": []
   },
   "source": [
    "<div style=\"padding: 15px; border: 5px solid transparent; border-color: transparent; margin-bottom: 20px; border-radius: 4px; color: #3c763d; background-color: #dff0d8; border-color: #d6e9c6; font-weight: bold;\">\n",
    "    <br><br>\n",
    "    <div style=\"font-weight: bold; font-size: 40px\">ChatGPT로 나만의 AI 서비스 만들기</div>\n",
    "    <div style=\"font-weight: bold; font-size: 20px\">(6) ChatGPT로 개발하기 - 계획하기</div>\n",
    "    <hr style=\"width:80%;text-align:left;margin-left:0;border:0.5px solid green\">\n",
    "    <br>\n",
    "    &#x2022; ChatGPT를 이용한 여러가지 서비스에 대해 이해한다.<br>\n",
    "    &#x2022; ChatGPT를 이용한 서비스를 계획한다.\n",
    "</div>"
   ]
  },
  {
   "cell_type": "markdown",
   "id": "fcbe2e6e-fc33-409a-8985-1b77da9f4abb",
   "metadata": {
    "deletable": false,
    "editable": false,
    "tags": []
   },
   "source": [
    "<div style=\"padding: 15px; border: 5px solid transparent; border-color: transparent; margin-bottom: 20px; border-radius: 4px; color: #3c763d; border-color: #d6e9c6; font-weight: bold;\">\n",
    "<h2 style='font-weight: bold'>1. ChatGPT를 활용한 서비스들</h2>\n",
    "</div>"
   ]
  },
  {
   "cell_type": "markdown",
   "id": "d3fff1cf-22e4-4d74-b8a2-951ed3cd1a7d",
   "metadata": {
    "deletable": false,
    "editable": false
   },
   "source": [
    "ChatGPT의 프롬프트를 설정하면 여러가지 서비스를 만들 수 있어요.\n",
    "\n",
    "[Dearmate](https://demo.dearmate.ai/) 에서 ChatGPT를 이용한 여러가지 서비스를 살펴보아요.\n",
    "\n",
    "<table>\n",
    "<tr>\n",
    "    <th><img src=\"https://tmn-bucket-materials-all.s3.ap-northeast-2.amazonaws.com/image/dissac/dissac_nepes_8_06_01.png\" width=\"500\"></th>\n",
    "    <th><img src=\"https://tmn-bucket-materials-all.s3.ap-northeast-2.amazonaws.com/image/dissac/dissac_nepes_8_06_02.png\" width=\"500\"></th>\n",
    "    </tr>\n",
    "<tr>\n",
    "    <th>소설 이어쓰기</th>\n",
    "    <th>스님스타일의 고민 상담</th>\n",
    "</tr>\n",
    "</table>"
   ]
  },
  {
   "cell_type": "markdown",
   "id": "abc66ac2-b024-4249-a66e-40a1f869aeb0",
   "metadata": {
    "deletable": false,
    "editable": false,
    "tags": []
   },
   "source": [
    "<div style=\"padding: 15px; border: 5px solid transparent; border-color: transparent; margin-bottom: 20px; border-radius: 4px; color: #3c763d; border-color: #d6e9c6; font-weight: bold;\">\n",
    "<h2 style='font-weight: bold'>2. ChatGPT를 이용한 서비스 계획하기</h2>\n",
    "</div>"
   ]
  },
  {
   "cell_type": "markdown",
   "id": "aa1187a5-8c93-4487-b9f7-b0c009ce8824",
   "metadata": {
    "deletable": false,
    "editable": false
   },
   "source": [
    "앞서 체험해 본 여러 서비스들을 바탕으로 여러분 만의 ChatGPT 서비스를 계획해 보아요."
   ]
  },
  {
   "cell_type": "markdown",
   "id": "58da9737-e93d-41ef-bfd9-7e6c6881d673",
   "metadata": {
    "deletable": false,
    "editable": false
   },
   "source": [
    "<div style=\"padding: 15px; border: 5px solid transparent; border-color: transparent; margin-bottom: 20px; border-radius: 4px; color: #8a6d3b;  border-color: #faebcc; font-weight: bold;\">\n",
    "    <div style=\"font-weight: bold; font-size: 20px\">✏️ [문제1]</div>\n",
    "    <br>\n",
    "여러분만의 ChatGPT 서비스를 계획해봅시다.\n",
    "</div>"
   ]
  },
  {
   "cell_type": "raw",
   "id": "84e8208b-0405-4a66-89a0-9c13c61c2922",
   "metadata": {},
   "source": [
    " 👉 \n",
    " 👉 "
   ]
  },
  {
   "cell_type": "markdown",
   "id": "f5c0c44c",
   "metadata": {},
   "source": [
    "<div style=\"padding: 15px; border: 5px solid transparent; border-color: transparent; margin-bottom: 20px; border-radius: 4px; color: #3c763d; border-color: #d6e9c6; font-weight: bold;\">\n",
    "<h2 style='font-weight: bold'>3. 인공지능 서비스 만들기</h2>\n",
    "</div>"
   ]
  },
  {
   "cell_type": "code",
   "execution_count": null,
   "id": "3f633dc0",
   "metadata": {},
   "outputs": [],
   "source": [
    "import openai\n",
    "\n",
    "openai.api_key = \"sk-...\" # API Key\n",
    "prompt = \"\"\"제시어에 맞추어 n행시를 지어줘\n",
    "예시)\n",
    "코들\n",
    "코:코끼리는\n",
    "들:들기에는 너무 무겁다\n",
    "\n",
    "파스타\n",
    "파:파스타의 매력에 빠져서\n",
    "스:스푼으로 휘감아 먹어보니\n",
    "타:타안탄한 맛이 터져나온다\n",
    "\n",
    "\"\"\"\n",
    "while True:\n",
    "    question = input(\"n행시 지어드립니다. 제시어를 주세요 : \")\n",
    "    completion = openai.ChatCompletion.create(\n",
    "        model=\"gpt-3.5-turbo\",\n",
    "        messages=[{\"role\": \"user\", \"content\": prompt + question}]\n",
    "    )\n",
    "    print(\"ChatGPT의 대답 :\", completion['choices'][0]['message']['content'])\n",
    "    y_or_n = input(\"계속 하시겠습니까?(Y/N)\")\n",
    "    if y_or_n == 'N':\n",
    "        break"
   ]
  },
  {
   "cell_type": "markdown",
   "id": "b6c2c196",
   "metadata": {},
   "source": [
    "<div style=\"padding: 15px; border: 5px solid transparent; border-color: transparent; margin-bottom: 20px; border-radius: 4px; color: #3c763d; border-color: #d6e9c6; font-weight: bold;\">\n",
    "<h2 style='font-weight: bold'>4. ChatGPT 서비스 공유하기</h2>\n",
    "</div>"
   ]
  },
  {
   "cell_type": "markdown",
   "id": "d0ba5b05",
   "metadata": {},
   "source": [
    "<div style=\"padding: 15px; border: 5px solid transparent; border-color: transparent; margin-bottom: 20px; border-radius: 4px; color: #8a6d3b;  border-color: #faebcc; font-weight: bold;\">\n",
    "    <div style=\"font-weight: bold; font-size: 20px\">✏️ [문제1]</div>\n",
    "    <br>\n",
    "내가 만든 ChatGPT 서비스를 친구들과 공유해봅시다.\n",
    "</div>"
   ]
  },
  {
   "cell_type": "raw",
   "id": "54e8e940",
   "metadata": {},
   "source": [
    " 👉 \n",
    " 👉 "
   ]
  }
 ],
 "metadata": {
  "kernelspec": {
   "display_name": "Python 3 (ipykernel)",
   "language": "python",
   "name": "python3"
  },
  "language_info": {
   "codemirror_mode": {
    "name": "ipython",
    "version": 3
   },
   "file_extension": ".py",
   "mimetype": "text/x-python",
   "name": "python",
   "nbconvert_exporter": "python",
   "pygments_lexer": "ipython3",
   "version": "3.11.3"
  },
  "read_only": true
 },
 "nbformat": 4,
 "nbformat_minor": 5
}
